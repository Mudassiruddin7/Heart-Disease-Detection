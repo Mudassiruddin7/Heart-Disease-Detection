{
 "cells": [
  {
   "cell_type": "markdown",
   "id": "26136cca",
   "metadata": {},
   "source": [
    "# Heart Disease Prediction Using Machine Learning"
   ]
  },
  {
   "cell_type": "markdown",
   "id": "0103e80a",
   "metadata": {},
   "source": [
    "### Steps\n",
    "1. Data gathering\n",
    "2. Data preperation\n",
    "3. Data Preprocessing\n",
    "4. Data Transformation\n",
    "5. Model Building\n",
    "6. Model Evaluation"
   ]
  },
  {
   "cell_type": "code",
   "execution_count": 29,
   "id": "ff58b28e",
   "metadata": {},
   "outputs": [],
   "source": [
    "# Importing Libraries Which are required for our Project.\n",
    "\n",
    "import pandas as pd \n",
    "import numpy as np \n",
    "import matplotlib.pyplot as plt\n",
    "import seaborn as sns\n",
    "\n",
    "import sklearn\n",
    "from sklearn import tree\n",
    "from sklearn import metrics\n",
    "from sklearn.model_selection import train_test_split\n",
    "from sklearn.metrics import confusion_matrix\n",
    "from sklearn.metrics import accuracy_score\n",
    "from sklearn.metrics import classification_report\n",
    "from sklearn.preprocessing import StandardScaler\n",
    "\n",
    "from matplotlib.cm import rainbow\n",
    "%matplotlib inline\n",
    "import warnings\n",
    "warnings.filterwarnings('ignore')\n",
    "from matplotlib import rcParams\n",
    "from sklearn.linear_model import LogisticRegression\n",
    "from sklearn.svm import SVC\n",
    "from sklearn.naive_bayes import GaussianNB\n",
    "from sklearn.tree import DecisionTreeClassifier"
   ]
  },
  {
   "cell_type": "markdown",
   "id": "f6b3bbf9",
   "metadata": {},
   "source": [
    "# Data Preperation"
   ]
  },
  {
   "cell_type": "code",
   "execution_count": 30,
   "id": "bdcae7cc",
   "metadata": {
    "scrolled": true
   },
   "outputs": [],
   "source": [
    "df = pd.read_csv('HeartDisease.csv')\n",
    "df.info()"
   ]
  },
  {
   "cell_type": "code",
   "execution_count": 31,
   "id": "6682e2a2",
   "metadata": {},
   "outputs": [],
   "source": [
    "df.tail()"
   ]
  },
  {
   "cell_type": "code",
   "execution_count": 32,
   "id": "3b077936",
   "metadata": {},
   "outputs": [],
   "source": [
    "pd.set_option(\"display.float\", \"{:.2f}\".format)\n",
    "df.describe()"
   ]
  },
  {
   "cell_type": "markdown",
   "id": "a7e85f74",
   "metadata": {},
   "source": [
    "# Data Exploration"
   ]
  },
  {
   "cell_type": "code",
   "execution_count": 33,
   "id": "8a45b489",
   "metadata": {},
   "outputs": [],
   "source": [
    "df.target.value_counts().plot(kind=\"bar\", color=[\"salmon\", \"lightblue\"])\n",
    "plt.xlabel('Patient has heart disease')\n",
    "plt.ylabel('counts')\n",
    "plt.title('Histogram of Patient has heart disease') "
   ]
  },
  {
   "cell_type": "code",
   "execution_count": 34,
   "id": "0ae90c56",
   "metadata": {},
   "outputs": [],
   "source": [
    "# Checking whether there are any null values or not.\n",
    "\n",
    "df.isna().sum()"
   ]
  },
  {
   "cell_type": "code",
   "execution_count": 35,
   "id": "a3eb04f5",
   "metadata": {},
   "outputs": [],
   "source": [
    "categorical_val = []\n",
    "continous_val = []\n",
    "for column in df.columns:\n",
    "    print('==============================')\n",
    "    print(f\"{column} : {df[column].unique()}\")\n",
    "    if len(df[column].unique()) <= 10:\n",
    "        categorical_val.append(column)\n",
    "    else:\n",
    "        continous_val.append(column)"
   ]
  },
  {
   "cell_type": "code",
   "execution_count": 36,
   "id": "28f6c224",
   "metadata": {},
   "outputs": [],
   "source": [
    "plt.figure(figsize=(15, 15))\n",
    "\n",
    "for i, column in enumerate(categorical_val, 1):\n",
    "    plt.subplot(3, 3, i)\n",
    "    df[df[\"target\"] == 0][column].hist(bins=35, color='blue', label='Have Heart Disease = NO', alpha=0.6)\n",
    "    df[df[\"target\"] == 1][column].hist(bins=35, color='red', label='Have Heart Disease = YES', alpha=0.6)\n",
    "    plt.legend()\n",
    "    plt.xlabel(column)"
   ]
  },
  {
   "cell_type": "markdown",
   "id": "d98ff49b",
   "metadata": {},
   "source": [
    "Observations from the above plot:\n",
    "\n",
    "- cp {Chest pain}: People with cp 1, 2, 3 are more likely to have heart disease than people with cp 0.\n",
    "- restecg {resting EKG results}: People with a value of 1 (reporting an abnormal heart rhythm, which can range from mild symptoms to severe problems) are more likely to have heart disease.\n",
    "- exang {exercise-induced angina}: people with a value of 0 (No ==> angina induced by exercise) have more heart disease than people with a value of 1 (Yes ==> angina induced by exercise)\n",
    "- slope {the slope of the ST segment of peak exercise}: People with a slope value of 2 (Downslopins: signs of an unhealthy heart) are more likely to have heart disease than people with a slope value of 2 slope is 0 (Upsloping: best heart rate with exercise) or 1 (Flatsloping: minimal change (typical healthy heart)).\n",
    "- ca {number of major vessels (0-3) stained by fluoroscopy}: the more blood movement the better, so people with ca equal to 0 are more likely to have heart disease.\n",
    "- thal {thalium stress result}: People with a thal value of 2 (defect corrected: once was a defect but ok now) are more likely to have heart disease."
   ]
  },
  {
   "cell_type": "code",
   "execution_count": 37,
   "id": "a0b3f904",
   "metadata": {},
   "outputs": [],
   "source": [
    "# Let's make our correlation matrix a little prettier\n",
    "corr_matrix = df.corr()\n",
    "fig, ax = plt.subplots(figsize=(15, 15))\n",
    "ax = sns.heatmap(corr_matrix,\n",
    "                 annot=True,\n",
    "                 linewidths=0.5,\n",
    "                 fmt=\".2f\",\n",
    "                 cmap=\"YlGnBu\");\n",
    "bottom, top = ax.get_ylim()\n",
    "ax.set_ylim(bottom + 0.5, top - 0.5)"
   ]
  },
  {
   "cell_type": "code",
   "execution_count": 38,
   "id": "40f07d03",
   "metadata": {},
   "outputs": [],
   "source": [
    "df.corrwith(df.target).plot(kind='bar', grid=True, figsize=(12, 8), \n",
    "                                                   title=\"Correlation with target\")"
   ]
  },
  {
   "cell_type": "markdown",
   "id": "40298ec0",
   "metadata": {},
   "source": [
    "Observations from correlation:\n",
    "\n",
    "- fbs and chol are the least correlated with the target variable.\n",
    "- All other variables have a significant correlation with the target variable."
   ]
  },
  {
   "cell_type": "code",
   "execution_count": 39,
   "id": "9a269ad2",
   "metadata": {},
   "outputs": [],
   "source": [
    "num_val = df[['age','rest_bps', 'cholestrol', 'thalach', 'old_peak']]\n",
    "sns.pairplot(num_val)"
   ]
  },
  {
   "cell_type": "markdown",
   "id": "887e0923",
   "metadata": {},
   "source": [
    "# Data Preprocessing"
   ]
  },
  {
   "cell_type": "code",
   "execution_count": 40,
   "id": "09122029",
   "metadata": {},
   "outputs": [],
   "source": [
    "target_var = df['target']\n",
    "independent_features = df.drop(columns = ['target'])"
   ]
  },
  {
   "cell_type": "code",
   "execution_count": 41,
   "id": "b5ecc809",
   "metadata": {},
   "outputs": [],
   "source": [
    "df = pd.get_dummies(independent_features, columns = ['gender', 'chest_pain', 'fasting_blood_sugar', 'rest_ecg', 'exer_angina', 'slope', 'ca', 'thalassemia'])"
   ]
  },
  {
   "cell_type": "code",
   "execution_count": 42,
   "id": "398f1da8",
   "metadata": {},
   "outputs": [],
   "source": [
    "df.head()"
   ]
  },
  {
   "cell_type": "markdown",
   "id": "a045a770",
   "metadata": {},
   "source": [
    "# Data Transformation"
   ]
  },
  {
   "cell_type": "code",
   "execution_count": 43,
   "id": "51441a1e",
   "metadata": {},
   "outputs": [],
   "source": [
    "sc = StandardScaler()\n",
    "col_to_scale = ['age', 'rest_bps', 'cholestrol', 'thalach', 'old_peak']\n",
    "df[col_to_scale] = sc.fit_transform(df[col_to_scale])"
   ]
  },
  {
   "cell_type": "code",
   "execution_count": 44,
   "id": "1f1fe822",
   "metadata": {},
   "outputs": [],
   "source": [
    "df.head()"
   ]
  },
  {
   "cell_type": "code",
   "execution_count": 45,
   "id": "d4380091",
   "metadata": {},
   "outputs": [],
   "source": [
    "#df.describe()"
   ]
  },
  {
   "cell_type": "markdown",
   "id": "9ead9371",
   "metadata": {},
   "source": [
    "# Model Training and train Test Split"
   ]
  },
  {
   "cell_type": "code",
   "execution_count": 46,
   "id": "f3ea0609",
   "metadata": {},
   "outputs": [],
   "source": [
    "X = df\n",
    "y = target_var\n",
    "\n",
    "X_train, X_test, y_train, y_test = train_test_split(X, y, test_size=0.2, random_state=42)"
   ]
  },
  {
   "cell_type": "code",
   "execution_count": 47,
   "id": "50347949",
   "metadata": {},
   "outputs": [],
   "source": [
    "def print_score(clf, X_train, y_train, X_test, y_test, train=True):\n",
    "    if train:\n",
    "        pred = clf.predict(X_train)\n",
    "        clf_report = pd.DataFrame(classification_report(y_train, pred, output_dict=True))\n",
    "        print(\"Train Result:\\n================================================\")\n",
    "        print(f\"Accuracy Score: {accuracy_score(y_train, pred) * 100:.2f}%\")\n",
    "        print(\"_______________________________________________\")\n",
    "        print(f\"CLASSIFICATION REPORT:\\n{clf_report}\")\n",
    "        print(\"_______________________________________________\")\n",
    "        print(f\"Confusion Matrix: \\n {confusion_matrix(y_train, pred)}\\n\")\n",
    "        \n",
    "    elif train==False:\n",
    "        pred = clf.predict(X_test)\n",
    "        clf_report = pd.DataFrame(classification_report(y_test, pred, output_dict=True))\n",
    "        print(\"Test Result:\\n================================================\")        \n",
    "        print(f\"Accuracy Score: {accuracy_score(y_test, pred) * 100:.2f}%\")\n",
    "        print(\"_______________________________________________\")\n",
    "        print(f\"CLASSIFICATION REPORT:\\n{clf_report}\")\n",
    "        print(\"_______________________________________________\")\n",
    "        print(f\"Confusion Matrix: \\n {confusion_matrix(y_test, pred)}\\n\")"
   ]
  },
  {
   "cell_type": "markdown",
   "id": "c25758f5",
   "metadata": {},
   "source": [
    "# Logistic Regression"
   ]
  },
  {
   "cell_type": "code",
   "execution_count": 48,
   "id": "cbf349db",
   "metadata": {},
   "outputs": [],
   "source": [
    "lr_clf = LogisticRegression(solver='liblinear')\n",
    "lr_clf.fit(X_train, y_train)\n",
    "\n",
    "print_score(lr_clf, X_train, y_train, X_test, y_test, train=True)\n",
    "print_score(lr_clf, X_train, y_train, X_test, y_test, train=False)"
   ]
  },
  {
   "cell_type": "markdown",
   "id": "6b8f830e",
   "metadata": {},
   "source": [
    "# Support Vector Machine"
   ]
  },
  {
   "cell_type": "code",
   "execution_count": 49,
   "id": "42a42777",
   "metadata": {},
   "outputs": [],
   "source": [
    "svc_clf = SVC()\n",
    "svc_clf.fit(X_train, y_train)\n",
    "\n",
    "print_score(svc_clf, X_train, y_train, X_test, y_test, train=True)\n",
    "print_score(svc_clf, X_train, y_train, X_test, y_test, train=False)"
   ]
  },
  {
   "cell_type": "markdown",
   "id": "be59e6c7",
   "metadata": {},
   "source": [
    "# Naive Bayes"
   ]
  },
  {
   "cell_type": "code",
   "execution_count": 50,
   "id": "a0187f93",
   "metadata": {},
   "outputs": [],
   "source": [
    "GaussianNB_clf = GaussianNB()\n",
    "GaussianNB_clf.fit(X_train, y_train)\n",
    "\n",
    "print_score(GaussianNB_clf, X_train, y_train, X_test, y_test, train=True)\n",
    "print_score(GaussianNB_clf, X_train, y_train, X_test, y_test, train=False)"
   ]
  },
  {
   "cell_type": "markdown",
   "id": "18e546c4",
   "metadata": {},
   "source": [
    "# Decision Tree"
   ]
  },
  {
   "cell_type": "code",
   "execution_count": 51,
   "id": "ea1d076e",
   "metadata": {},
   "outputs": [],
   "source": [
    "dt_clf = DecisionTreeClassifier()\n",
    "dt_clf.fit(X_train, y_train)\n",
    "\n",
    "print_score(dt_clf, X_train, y_train, X_test, y_test, train=True)\n",
    "print_score(dt_clf, X_train, y_train, X_test, y_test, train=False)"
   ]
  },
  {
   "cell_type": "code",
   "execution_count": null,
   "id": "2222007d",
   "metadata": {},
   "outputs": [],
   "source": []
  },
  {
   "cell_type": "code",
   "execution_count": 52,
   "id": "78c46268",
   "metadata": {},
   "outputs": [],
   "source": [
    "aa=( 0.29046364,  0.47839125, -0.10172985, -1.16528085, -0.7243226 ,\n",
    "         1.        ,  0.        ,  1.        ,  0.        ,  0.        ,\n",
    "         0.        ,  1.        ,  0.        ,  0.        ,  1.        ,\n",
    "         0.        ,  0.        ,  1.        ,  0.        ,  1.        ,\n",
    "         0.        ,  1.        ,  0.        ,  0.        ,  0.        ,\n",
    "         0.        ,  0.        ,  0.        ,  0.        ,  1. )\n",
    "\n",
    "ab=(0.95, 0.76, -0.26, 0.02,    1.09,   0.00,   1.00,    0.00,   \n",
    "    0.00,    0.00,   1.00,  0.00,  1.00,   1.00,   0.00,  0.00,  \n",
    "    1.00,  0.00, 1.00,  0.00,  0.00,  1.00,  0.00,  0.00,  0.00,\n",
    "    0.00,  0.00,   1.00,  0.00, 0.00)\n",
    "a = np.asarray(aa)\n",
    "a = a.reshape(1,-1)\n",
    "p = svc_clf.predict(a)\n"
   ]
  },
  {
   "cell_type": "code",
   "execution_count": 53,
   "id": "51c36f89",
   "metadata": {},
   "outputs": [],
   "source": [
    "X_train.iloc[19]"
   ]
  },
  {
   "cell_type": "code",
   "execution_count": null,
   "id": "9af24a62",
   "metadata": {},
   "outputs": [],
   "source": []
  },
  {
   "cell_type": "code",
   "execution_count": 54,
   "id": "2ba78e0a",
   "metadata": {},
   "outputs": [],
   "source": [
    "new = X_train.iloc[193]\n",
    "a = np.asarray(new)\n",
    "a = a.reshape(1,-1)\n",
    "p = svc_clf.predict(a)"
   ]
  },
  {
   "cell_type": "code",
   "execution_count": 55,
   "id": "1f991032",
   "metadata": {},
   "outputs": [],
   "source": [
    "p[0]"
   ]
  },
  {
   "cell_type": "code",
   "execution_count": 56,
   "id": "d81a942b",
   "metadata": {},
   "outputs": [],
   "source": [
    "if (p[0] == 1):\n",
    "    print(\"Person has heart disease\")\n",
    "else:\n",
    "    print(\"Great! the results are normal\")"
   ]
  },
  {
   "cell_type": "markdown",
   "id": "0ae25da1",
   "metadata": {},
   "source": [
    "### Conclusion\n",
    "\n",
    "So, In this project, We have used Machine Learning to predict whether a person is suffering from a heart disease or not. \n",
    "Steps which were involved along the project.\n",
    "1. Data Collection.\n",
    "2. Data Preperation(Importing, Exploratory Data Analysis), After importing the data we have used some basic pandas fucntions to get to know more about the data, such as, Head(), tail(), Descibe() -> for statistical analysis, info(), \n",
    "3. Data Exploration, we have used some plots to get an understanding of what our data is telling to us, like count of our target variable, Histogram to check whetehr the variables are normally distributed or not, Unique values present in a variable.\n",
    "4. Data preprocessing, here we have checked whether their are any null vlaues, outliers or unwanted values, fortunaltely we didnt have any, so after that we have created dummy variables using pd.get_dummies(), to transform our categorical variables to numerical(0/1).\n",
    "5. Data Transformation: this will help us to trasform the variables/ used to bring all the variables to the same scale, using StandardScaler()/Normalisation().\n",
    "6. Data Modelling: Before modelling our data, we are splitting our data to trian_test_split(80/20), After which we have used 2 Machine Learning algorithms, `Logistic Regression` and  `Support Vector Classifier`. I varied parameters across each model to improve their scores.\n",
    "In the end, we can see that  `Support Vector Classifier`  has achieved better scores compared to other model."
   ]
  },
  {
   "cell_type": "code",
   "execution_count": null,
   "id": "db116baf",
   "metadata": {},
   "outputs": [],
   "source": []
  }
 ],
 "metadata": {
  "kernelspec": {
   "display_name": "Python 3 (ipykernel)",
   "language": "python",
   "name": "python3"
  },
  "language_info": {
   "codemirror_mode": {
    "name": "ipython",
    "version": 3
   },
   "file_extension": ".py",
   "mimetype": "text/x-python",
   "name": "python",
   "nbconvert_exporter": "python",
   "pygments_lexer": "ipython3",
   "version": "3.11.5"
  }
 },
 "nbformat": 4,
 "nbformat_minor": 5
}
